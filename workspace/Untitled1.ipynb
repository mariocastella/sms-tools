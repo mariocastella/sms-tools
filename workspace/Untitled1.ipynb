{
 "cells": [
  {
   "cell_type": "code",
   "execution_count": 7,
   "metadata": {},
   "outputs": [],
   "source": [
    "import numpy as np\n",
    "from scipy.signal import get_window\n",
    "import sys, os\n",
    "sys.path.append('../software/models/')\n",
    "import stft\n",
    "import utilFunctions as UF\n",
    "import sineModel as SM\n",
    "import matplotlib.pyplot as plt\n",
    "\n",
    "def chirpTracker(inputFile='../sounds/chirp-150-190-linear.wav'):\n",
    "    \"\"\"\n",
    "    Input:\n",
    "           inputFile (string) = wav file including the path\n",
    "    Output:\n",
    "           M (int) = Window length\n",
    "           H (int) = hop size in samples\n",
    "           tStamps (numpy array) = A Kx1 numpy array of time stamps at which the frequency components were estimated\n",
    "           fTrackEst (numpy array) = A Kx2 numpy array of estimated frequency values, one row per time frame, one column per component\n",
    "           fTrackTrue (numpy array) = A Kx2 numpy array of true frequency values, one row per time frame, one column per component\n",
    "           K is the number of frames\n",
    "    \"\"\"\n",
    "    # Analysis parameters: Modify values of the parameters marked XX\n",
    "    M = 3401                                  # Window size in samples\n",
    "    H = 512                                   # Hop size in samples\n",
    "    \n",
    "    ### Go through the code below and understand it, do not modify anything ###    \n",
    "    N = int(pow(2, np.ceil(np.log2(M))))        # FFT Size, power of 2 larger than M\n",
    "    t = -80.0                                     # threshold\n",
    "    window = 'blackman'                         # Window type\n",
    "    maxnSines = 2                               # Maximum number of sinusoids at any time frame\n",
    "    minSineDur = 0.0                            # minimum duration set to zero to not do tracking\n",
    "    freqDevOffset = 30                          # minimum frequency deviation at 0Hz\n",
    "    freqDevSlope = 0.001                        # slope increase of minimum frequency deviation\n",
    "    \n",
    "    fs, x = UF.wavread(inputFile)               # read input sound\n",
    "    w = get_window(window, M)                   # Compute analysis window\n",
    "    tStamps = genTimeStamps(x.size, M, fs, H)   # Generate the tStamps to return\n",
    "    # analyze the sound with the sinusoidal model\n",
    "    fTrackEst, mTrackEst, pTrackEst = SM.sineModelAnal(x, fs, w, N, H, t, maxnSines, minSineDur, freqDevOffset, freqDevSlope)\n",
    "    fTrackTrue = genTrueFreqTracks(tStamps)     # Generate the true frequency tracks\n",
    "    tailF = 10                                 \n",
    "    # Compute mean estimation error. 50 frames at the beginning and end not used to compute error\n",
    "    meanErr = np.mean(np.abs(fTrackTrue[tailF:-tailF,:] - fTrackEst[tailF:-tailF,:]),axis=0)     \n",
    "    print (\"Mean estimation error = \" + str(meanErr) + ' Hz')     # Print the error to terminal    \n",
    "    # Plot the estimated and true frequency tracks\n",
    "    mX, pX = stft.stftAnal(x, w, N, H)\n",
    "    maxplotfreq = 1500.0\n",
    "    binFreq = fs*np.arange(N*maxplotfreq/fs)/N\n",
    "    plt.pcolormesh(tStamps, binFreq, np.transpose(mX[:,:N*maxplotfreq/fs+1]),cmap = 'hot_r')\n",
    "    plt.plot(tStamps,fTrackTrue, 'o-', color = 'c', linewidth=3.0)\n",
    "    plt.plot(tStamps,fTrackEst, color = 'y', linewidth=2.0)\n",
    "    plt.legend(('True f1', 'True f2', 'Estimated f1', 'Estimated f2'))\n",
    "    plt.xlabel('Time (s)')\n",
    "    plt.ylabel('Frequency (Hz)')\n",
    "    plt.autoscale(tight=True)\n",
    "    return M, H, tStamps, fTrackEst, fTrackTrue  # Output returned \n",
    "\n",
    "### Do not modify this function\n",
    "def genTimeStamps(xlen, M, fs, H):\n",
    "    # Generates the timeStamps as needed for output\n",
    "    hM1 = int(np.floor((M+1)/2))                     \n",
    "    hM2 = int(np.floor(M/2))                         \n",
    "    xlen = xlen + 2*hM2\n",
    "    pin = hM1\n",
    "    pend = xlen - hM1                                     \n",
    "    tStamps = np.arange(pin,pend,H)/float(fs)\n",
    "    return tStamps\n",
    "\n",
    "### Do not modify this function\n",
    "def genTrueFreqTracks(tStamps):\n",
    "    # Generates the true frequency values to compute estimation error\n",
    "    # Specifically to chirp-150-190-linear.wav\n",
    "    fTrack = np.zeros((len(tStamps),2))\n",
    "    fTrack[:,0] = np.transpose(np.linspace(190, 190+1250, len(tStamps)))\n",
    "    fTrack[:,1] = np.transpose(np.linspace(150, 150+1250, len(tStamps)))\n",
    "    return fTrack"
   ]
  },
  {
   "cell_type": "code",
   "execution_count": 8,
   "metadata": {},
   "outputs": [
    {
     "name": "stdout",
     "output_type": "stream",
     "text": [
      "Mean estimation error = [1.25939601 1.83454133] Hz\n"
     ]
    },
    {
     "ename": "TypeError",
     "evalue": "slice indices must be integers or None or have an __index__ method",
     "output_type": "error",
     "traceback": [
      "\u001b[0;31m---------------------------------------------------------------------------\u001b[0m",
      "\u001b[0;31mTypeError\u001b[0m                                 Traceback (most recent call last)",
      "\u001b[0;32m<ipython-input-8-d5e22676e94f>\u001b[0m in \u001b[0;36m<module>\u001b[0;34m\u001b[0m\n\u001b[0;32m----> 1\u001b[0;31m \u001b[0mft\u001b[0m \u001b[0;34m=\u001b[0m \u001b[0mchirpTracker\u001b[0m\u001b[0;34m(\u001b[0m\u001b[0;34m)\u001b[0m\u001b[0;34m\u001b[0m\u001b[0;34m\u001b[0m\u001b[0m\n\u001b[0m",
      "\u001b[0;32m<ipython-input-7-76b085b11bd5>\u001b[0m in \u001b[0;36mchirpTracker\u001b[0;34m(inputFile)\u001b[0m\n\u001b[1;32m     47\u001b[0m     \u001b[0mmaxplotfreq\u001b[0m \u001b[0;34m=\u001b[0m \u001b[0;36m1500.0\u001b[0m\u001b[0;34m\u001b[0m\u001b[0;34m\u001b[0m\u001b[0m\n\u001b[1;32m     48\u001b[0m     \u001b[0mbinFreq\u001b[0m \u001b[0;34m=\u001b[0m \u001b[0mfs\u001b[0m\u001b[0;34m*\u001b[0m\u001b[0mnp\u001b[0m\u001b[0;34m.\u001b[0m\u001b[0marange\u001b[0m\u001b[0;34m(\u001b[0m\u001b[0mN\u001b[0m\u001b[0;34m*\u001b[0m\u001b[0mmaxplotfreq\u001b[0m\u001b[0;34m/\u001b[0m\u001b[0mfs\u001b[0m\u001b[0;34m)\u001b[0m\u001b[0;34m/\u001b[0m\u001b[0mN\u001b[0m\u001b[0;34m\u001b[0m\u001b[0;34m\u001b[0m\u001b[0m\n\u001b[0;32m---> 49\u001b[0;31m     \u001b[0mplt\u001b[0m\u001b[0;34m.\u001b[0m\u001b[0mpcolormesh\u001b[0m\u001b[0;34m(\u001b[0m\u001b[0mtStamps\u001b[0m\u001b[0;34m,\u001b[0m \u001b[0mbinFreq\u001b[0m\u001b[0;34m,\u001b[0m \u001b[0mnp\u001b[0m\u001b[0;34m.\u001b[0m\u001b[0mtranspose\u001b[0m\u001b[0;34m(\u001b[0m\u001b[0mmX\u001b[0m\u001b[0;34m[\u001b[0m\u001b[0;34m:\u001b[0m\u001b[0;34m,\u001b[0m\u001b[0;34m:\u001b[0m\u001b[0mN\u001b[0m\u001b[0;34m*\u001b[0m\u001b[0mmaxplotfreq\u001b[0m\u001b[0;34m/\u001b[0m\u001b[0mfs\u001b[0m\u001b[0;34m+\u001b[0m\u001b[0;36m1\u001b[0m\u001b[0;34m]\u001b[0m\u001b[0;34m)\u001b[0m\u001b[0;34m,\u001b[0m\u001b[0mcmap\u001b[0m \u001b[0;34m=\u001b[0m \u001b[0;34m'hot_r'\u001b[0m\u001b[0;34m)\u001b[0m\u001b[0;34m\u001b[0m\u001b[0;34m\u001b[0m\u001b[0m\n\u001b[0m\u001b[1;32m     50\u001b[0m     \u001b[0mplt\u001b[0m\u001b[0;34m.\u001b[0m\u001b[0mplot\u001b[0m\u001b[0;34m(\u001b[0m\u001b[0mtStamps\u001b[0m\u001b[0;34m,\u001b[0m\u001b[0mfTrackTrue\u001b[0m\u001b[0;34m,\u001b[0m \u001b[0;34m'o-'\u001b[0m\u001b[0;34m,\u001b[0m \u001b[0mcolor\u001b[0m \u001b[0;34m=\u001b[0m \u001b[0;34m'c'\u001b[0m\u001b[0;34m,\u001b[0m \u001b[0mlinewidth\u001b[0m\u001b[0;34m=\u001b[0m\u001b[0;36m3.0\u001b[0m\u001b[0;34m)\u001b[0m\u001b[0;34m\u001b[0m\u001b[0;34m\u001b[0m\u001b[0m\n\u001b[1;32m     51\u001b[0m     \u001b[0mplt\u001b[0m\u001b[0;34m.\u001b[0m\u001b[0mplot\u001b[0m\u001b[0;34m(\u001b[0m\u001b[0mtStamps\u001b[0m\u001b[0;34m,\u001b[0m\u001b[0mfTrackEst\u001b[0m\u001b[0;34m,\u001b[0m \u001b[0mcolor\u001b[0m \u001b[0;34m=\u001b[0m \u001b[0;34m'y'\u001b[0m\u001b[0;34m,\u001b[0m \u001b[0mlinewidth\u001b[0m\u001b[0;34m=\u001b[0m\u001b[0;36m2.0\u001b[0m\u001b[0;34m)\u001b[0m\u001b[0;34m\u001b[0m\u001b[0;34m\u001b[0m\u001b[0m\n",
      "\u001b[0;31mTypeError\u001b[0m: slice indices must be integers or None or have an __index__ method"
     ]
    }
   ],
   "source": [
    "ft = chirpTracker()"
   ]
  },
  {
   "cell_type": "code",
   "execution_count": null,
   "metadata": {},
   "outputs": [],
   "source": []
  }
 ],
 "metadata": {
  "kernelspec": {
   "display_name": "Python 3",
   "language": "python",
   "name": "python3"
  },
  "language_info": {
   "codemirror_mode": {
    "name": "ipython",
    "version": 3
   },
   "file_extension": ".py",
   "mimetype": "text/x-python",
   "name": "python",
   "nbconvert_exporter": "python",
   "pygments_lexer": "ipython3",
   "version": "3.7.4"
  }
 },
 "nbformat": 4,
 "nbformat_minor": 2
}
