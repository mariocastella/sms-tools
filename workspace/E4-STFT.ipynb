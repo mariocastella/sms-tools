{
 "cells": [
  {
   "cell_type": "markdown",
   "metadata": {},
   "source": [
    "# Exercise 4: Short-time Fourier Transform\n",
    "\n",
    "Doing this exercise you will learn about the concept of the main lobe width of the spectrum of a window and you will better understand the short-time Fourier transform (STFT). You will also use the STFT to extract basic rhythm related information from an audio signal, implementing an onset detection function, which is one of the rhythm descriptors often used in music information retrieval to detect onsets of acoustic events. \n",
    "\n",
    "There are four parts in this exercise. 1) Extracting the main lobe of the spectrum of a window, 2) Measuring noise in the reconstructed signal using the STFT model, 3) Computing band-wise energy envelopes of a signal, 4) Computing an onset detection function.\n",
    "\n",
    "\n",
    "### Relevant Concepts\n",
    "\n",
    "__Main lobe of the spectrum of a window:__\n",
    "The width of the main lobe of the magnitude spectrum of a window is an important characteristic used in deciding which window type is best for the analysis of an audio excerpt. There exists a tradeoff between the main lobe width and the side lobe attenuation. Typically for windows with a narrower main lobe, the side lobes are less attenuated. \n",
    "An interesting fact is that changing the length of a window $M$ doesn't affect the main lobe width of the spectrum of the window in samples. Note that if you use zero-padding for computing the spectrum of a window, the main lobe width will be multiplied by the zero-padding factor.\n",
    "\n",
    "__Fast Fourier Transform (FFT):__\n",
    "An efficient way to compute the discrete Fourier transform of a signal is the fast Fourier transform, FFT. The FFT algorithm  factorizes the DFT matrix in order to exploit the symmetries in the DFT equation. FFT computation is specially very efficient when the FFT size is a power of 2. Therefore, whenever possible we use an FFT size that is a power of 2.\n",
    "\n",
    "__Energy of a signal:__ The energy of a signal $x[n]$ of length $N$ can be computed in the discrete time domain as follows:\n",
    "\\begin{equation}\n",
    "E=\\overset{N-1}{\\underset{n=0}{\\sum}}\\left|x\\left[n\\right]\\right|^{2}\n",
    "\\end{equation}\n",
    "\n",
    "__Energy in a frequency band:__ Given the DFT spectrum of the signal $X[k]$, the energy $E$ in a specific frequency band spanning the bin index $k_1$ to $k_2$ can be computed as:\n",
    "\n",
    "\\begin{equation}\n",
    "E=\\overset{k_{2}}{\\underset{k=k_{1}}{\\sum}}\\left|X\\left[k\\right]\\right|^{2}\n",
    "\\end{equation}\n",
    "\n",
    "Note that in this computation the $X[k]$ values are not in decibels (dB). The `stftAnal()` function returns magnitude spectra in dB scale, which should be converted to linear scale before the energy computation. Once the energy is computed it can be converted back to the dB scale as:\n",
    "\n",
    "\\begin{equation}\n",
    "E_{dB}= 10\\,\\log_{10}(E)\n",
    "\\end{equation}\n",
    "\n",
    "__Signal to noise ratio (SNR):__\n",
    "Signal to noise ratio (SNR) is a frequently used measure to quantify the amount of noise present/added in a signal. In the context of this exercise it can be computed in decibels (dB) as:\n",
    "\n",
    "\\begin{equation}\n",
    "\\mathrm{SNR} = 10\\,\\log_{10}\\left(\\frac{E_{\\mathrm{signal}}}{E_{\\mathrm{noise}}}\\right)\n",
    "\\end{equation}\n",
    "\n",
    "where, $E_{\\mathrm{signal}}$ and $E_{\\mathrm{noise}}$ are the energy of the signal and noise respectively.\n",
    "\n",
    "For our case of analysis and synthesis using a specific model (for example, STFT) noise can be thought of as the difference between the input signal and the output signal of the model.\n",
    "\n",
    "__Onset detection function:__\n",
    "An onset detection function (ODF) refers to a continuous function (one value per audio frame) often used for detecting acoustic events in an audio stream. In music information retrieval (MIR), ODFs are typically used for detecting onsets of musical notes and percussion strokes. An ODF generally has high values at the onsets of acoustic events. A simple ODF can be computed by taking the difference between the energy values of consecutive frames, as shown below:\n",
    "\n",
    "\\begin{equation}\n",
    "O(l) = E(l) - E(l-1) ,\\,\\,\\,\\,\\, l \\geq 1\n",
    "\\end{equation}\n",
    "\n",
    "where, $O(l)$ is the ODF computed at frame index $l$ and $E$ is the energy of the signal in a particular frequency band in decibels (dB). Often, multiple ODFs are computed with different frequency bands across the spectrum. \n",
    "\n",
    "In order to detect only the onsets of the events and not the offsets, it is a common practice to half wave rectify the ODF and obtain $\\bar{O}(l)$. Half wave rectification of the ODF is given by:\n",
    "\n",
    " \\begin{equation}\n",
    " \\bar{O}(l)=\\begin{cases}\n",
    " \\begin{array}{c}\n",
    " O(l), \\, \\mathrm{if} \\,\\,O(l)>0\\\\\n",
    " \\,\\,\\,\\,0, \\,\\,\\,\\,\\, \\mathrm{if} \\,\\, O(l)\\leq0\n",
    " \\end{array}\\end{cases} \n",
    " \\end{equation}"
   ]
  },
  {
   "cell_type": "markdown",
   "metadata": {},
   "source": [
    "## Part 1 - Extracting the main lobe of the spectrum of a window\n",
    "\n",
    "Complete the function `extract_main_lobe()` to extract the main lobe of the magnitude spectrum of a window given a window type, `window`, and its length, `M`. The function should return the samples corresponding to the main lobe in decibels (dB).\n",
    "\n",
    "To compute the spectrum, take the FFT size (`N`) to be 8 times the window length (`N = 8*M`) (For this part, `N` does not need to be a power of 2). \n",
    "\n",
    "The input arguments to the function are the window type (`window`) and the length of the window (`M`). The function should return a numpy array containing the samples corresponding to the main lobe of the window. In the returned numpy array you should include the samples corresponding to both the local minimas across the main lobe. \n",
    "\n",
    "The possible window types that you can expect as input are rectangular (`'boxcar'`), `'hamming'` or `'blackmanharris'`.\n",
    "\n",
    "NOTE: You can approach this question by writing code to find the indices of the local minimas across the main lobe.\n",
    "\n",
    "_Tip:_ `log10(0)` is not well defined, so its a common practice to add a small value such as `eps = 1e-16` \n",
    "to the magnitude spectrum before computing it in dB. This is optional and will not affect your answers. \n",
    "If you find it difficult to concatenate the two halves of the main lobe, you can first center the \n",
    "spectrum using `fftshift()` and then compute the indexes of the minimas around the main lobe."
   ]
  },
  {
   "cell_type": "code",
   "execution_count": 1,
   "metadata": {},
   "outputs": [],
   "source": [
    "import os\n",
    "import sys\n",
    "import numpy as np\n",
    "\n",
    "from scipy.signal import get_window\n",
    "from scipy.fftpack import fft, fftshift\n",
    "\n",
    "import math\n",
    "import matplotlib.pyplot as plt\n",
    "%matplotlib notebook\n",
    "eps = np.finfo(float).eps\n",
    "\n",
    "sys.path.append('../software/models/')\n",
    "import stft\n",
    "import utilFunctions as UF"
   ]
  },
  {
   "cell_type": "code",
   "execution_count": 9,
   "metadata": {},
   "outputs": [],
   "source": [
    "# E4 - 1.1: Complete function\n",
    "\n",
    "def extract_main_lobe(window, M):\n",
    "    \"\"\"Extract the main lobe of the magnitude spectrum of a window, given a window type and its length.\n",
    "    \n",
    "    Args:\n",
    "        window (str): Window type to be used (Either rectangular ('boxcar'), 'hamming' or 'blackmanharris')\n",
    "        M (int): length of the window to be used\n",
    "        \n",
    "    Results:\n",
    "        np.array: an array containing the main lobe of the magnitude spectrum of the window in decibels (dB).\n",
    "    \"\"\"\n",
    "\n",
    "    w = get_window(window, M)         # get the window \n",
    "    N = 8*M     \n",
    "    hN = N//2    \n",
    "    hM = M//2   \n",
    "    \n",
    "    fftbuffer = np.zeros(N)\n",
    "    mX1 = np.zeros(N)  \n",
    "    \n",
    "    fftbuffer[hN-hM:hN+hM] = w    #-224:288\n",
    "    X = fft(fftbuffer)\n",
    "    mX = 20*np.log10(abs(X)) \n",
    "    mX1[:hN] = mX[hN:]\n",
    "    mX1[N-hN:] = mX[:hN] \n",
    "    \n",
    "    while mX1[i]\n",
    "    \n",
    "    return X\n"
   ]
  },
  {
   "cell_type": "markdown",
   "metadata": {},
   "source": [
    "Now run and test the `extract_main_lobe()` function. Here you have 3 test cases:\n",
    "\n",
    "_Test case 1:_ If you run your code using `window = 'blackmanharris'` and `M = 100`, the output numpy \n",
    "array should contain 65 samples.\n",
    "\n",
    "_Test case 2:_ If you run your code using `window = 'boxcar'` and `M = 120`, the output numpy array \n",
    "should contain 17 samples.\n",
    "\n",
    "_Test case 3:_ If you run your code using `window = 'hamming'` and `M = 256`, the output numpy array \n",
    "should contain 33 samples.\n",
    "\n",
    "To understand better the result you can plot the magnitude spectrum of the window and mark the boundaries of the main lobe."
   ]
  },
  {
   "cell_type": "code",
   "execution_count": 35,
   "metadata": {},
   "outputs": [
    {
     "name": "stdout",
     "output_type": "stream",
     "text": [
      "32\n"
     ]
    },
    {
     "name": "stderr",
     "output_type": "stream",
     "text": [
      "/home/mario/Programs/anaconda3/lib/python3.7/site-packages/ipykernel_launcher.py:14: RuntimeWarning: divide by zero encountered in log10\n",
      "  \n"
     ]
    },
    {
     "ename": "ValueError",
     "evalue": "x and y must have same first dimension, but have shapes (800,) and (0,)",
     "output_type": "error",
     "traceback": [
      "\u001b[0;31m---------------------------------------------------------------------------\u001b[0m",
      "\u001b[0;31mValueError\u001b[0m                                Traceback (most recent call last)",
      "\u001b[0;32m<ipython-input-35-85f88c30e7d0>\u001b[0m in \u001b[0;36m<module>\u001b[0;34m\u001b[0m\n\u001b[1;32m     34\u001b[0m \u001b[0;34m\u001b[0m\u001b[0m\n\u001b[1;32m     35\u001b[0m \u001b[0mplt\u001b[0m\u001b[0;34m.\u001b[0m\u001b[0msubplot\u001b[0m\u001b[0;34m(\u001b[0m\u001b[0;36m2\u001b[0m\u001b[0;34m,\u001b[0m\u001b[0;36m1\u001b[0m\u001b[0;34m,\u001b[0m\u001b[0;36m2\u001b[0m\u001b[0;34m)\u001b[0m\u001b[0;34m\u001b[0m\u001b[0;34m\u001b[0m\u001b[0m\n\u001b[0;32m---> 36\u001b[0;31m \u001b[0mplt\u001b[0m\u001b[0;34m.\u001b[0m\u001b[0mplot\u001b[0m\u001b[0;34m(\u001b[0m\u001b[0mnp\u001b[0m\u001b[0;34m.\u001b[0m\u001b[0marange\u001b[0m\u001b[0;34m(\u001b[0m\u001b[0;34m-\u001b[0m\u001b[0mhN\u001b[0m\u001b[0;34m,\u001b[0m \u001b[0mhN\u001b[0m\u001b[0;34m)\u001b[0m\u001b[0;34m,\u001b[0m \u001b[0mmlob\u001b[0m\u001b[0;34m,\u001b[0m \u001b[0mlw\u001b[0m\u001b[0;34m=\u001b[0m\u001b[0;36m1.5\u001b[0m\u001b[0;34m)\u001b[0m\u001b[0;34m\u001b[0m\u001b[0;34m\u001b[0m\u001b[0m\n\u001b[0m\u001b[1;32m     37\u001b[0m \u001b[0mplt\u001b[0m\u001b[0;34m.\u001b[0m\u001b[0maxis\u001b[0m\u001b[0;34m(\u001b[0m\u001b[0;34m[\u001b[0m\u001b[0;34m-\u001b[0m\u001b[0mhN\u001b[0m\u001b[0;34m,\u001b[0m\u001b[0mhN\u001b[0m\u001b[0;34m,\u001b[0m\u001b[0;34m-\u001b[0m\u001b[0;36m80\u001b[0m\u001b[0;34m,\u001b[0m\u001b[0;36m0\u001b[0m\u001b[0;34m]\u001b[0m\u001b[0;34m)\u001b[0m\u001b[0;34m\u001b[0m\u001b[0;34m\u001b[0m\u001b[0m\n\u001b[1;32m     38\u001b[0m \u001b[0;34m\u001b[0m\u001b[0m\n",
      "\u001b[0;32m~/Programs/anaconda3/lib/python3.7/site-packages/matplotlib/pyplot.py\u001b[0m in \u001b[0;36mplot\u001b[0;34m(scalex, scaley, data, *args, **kwargs)\u001b[0m\n\u001b[1;32m   2793\u001b[0m     return gca().plot(\n\u001b[1;32m   2794\u001b[0m         *args, scalex=scalex, scaley=scaley, **({\"data\": data} if data\n\u001b[0;32m-> 2795\u001b[0;31m         is not None else {}), **kwargs)\n\u001b[0m\u001b[1;32m   2796\u001b[0m \u001b[0;34m\u001b[0m\u001b[0m\n\u001b[1;32m   2797\u001b[0m \u001b[0;34m\u001b[0m\u001b[0m\n",
      "\u001b[0;32m~/Programs/anaconda3/lib/python3.7/site-packages/matplotlib/axes/_axes.py\u001b[0m in \u001b[0;36mplot\u001b[0;34m(self, scalex, scaley, data, *args, **kwargs)\u001b[0m\n\u001b[1;32m   1664\u001b[0m         \"\"\"\n\u001b[1;32m   1665\u001b[0m         \u001b[0mkwargs\u001b[0m \u001b[0;34m=\u001b[0m \u001b[0mcbook\u001b[0m\u001b[0;34m.\u001b[0m\u001b[0mnormalize_kwargs\u001b[0m\u001b[0;34m(\u001b[0m\u001b[0mkwargs\u001b[0m\u001b[0;34m,\u001b[0m \u001b[0mmlines\u001b[0m\u001b[0;34m.\u001b[0m\u001b[0mLine2D\u001b[0m\u001b[0;34m.\u001b[0m\u001b[0m_alias_map\u001b[0m\u001b[0;34m)\u001b[0m\u001b[0;34m\u001b[0m\u001b[0;34m\u001b[0m\u001b[0m\n\u001b[0;32m-> 1666\u001b[0;31m         \u001b[0mlines\u001b[0m \u001b[0;34m=\u001b[0m \u001b[0;34m[\u001b[0m\u001b[0;34m*\u001b[0m\u001b[0mself\u001b[0m\u001b[0;34m.\u001b[0m\u001b[0m_get_lines\u001b[0m\u001b[0;34m(\u001b[0m\u001b[0;34m*\u001b[0m\u001b[0margs\u001b[0m\u001b[0;34m,\u001b[0m \u001b[0mdata\u001b[0m\u001b[0;34m=\u001b[0m\u001b[0mdata\u001b[0m\u001b[0;34m,\u001b[0m \u001b[0;34m**\u001b[0m\u001b[0mkwargs\u001b[0m\u001b[0;34m)\u001b[0m\u001b[0;34m]\u001b[0m\u001b[0;34m\u001b[0m\u001b[0;34m\u001b[0m\u001b[0m\n\u001b[0m\u001b[1;32m   1667\u001b[0m         \u001b[0;32mfor\u001b[0m \u001b[0mline\u001b[0m \u001b[0;32min\u001b[0m \u001b[0mlines\u001b[0m\u001b[0;34m:\u001b[0m\u001b[0;34m\u001b[0m\u001b[0;34m\u001b[0m\u001b[0m\n\u001b[1;32m   1668\u001b[0m             \u001b[0mself\u001b[0m\u001b[0;34m.\u001b[0m\u001b[0madd_line\u001b[0m\u001b[0;34m(\u001b[0m\u001b[0mline\u001b[0m\u001b[0;34m)\u001b[0m\u001b[0;34m\u001b[0m\u001b[0;34m\u001b[0m\u001b[0m\n",
      "\u001b[0;32m~/Programs/anaconda3/lib/python3.7/site-packages/matplotlib/axes/_base.py\u001b[0m in \u001b[0;36m__call__\u001b[0;34m(self, *args, **kwargs)\u001b[0m\n\u001b[1;32m    223\u001b[0m                 \u001b[0mthis\u001b[0m \u001b[0;34m+=\u001b[0m \u001b[0margs\u001b[0m\u001b[0;34m[\u001b[0m\u001b[0;36m0\u001b[0m\u001b[0;34m]\u001b[0m\u001b[0;34m,\u001b[0m\u001b[0;34m\u001b[0m\u001b[0;34m\u001b[0m\u001b[0m\n\u001b[1;32m    224\u001b[0m                 \u001b[0margs\u001b[0m \u001b[0;34m=\u001b[0m \u001b[0margs\u001b[0m\u001b[0;34m[\u001b[0m\u001b[0;36m1\u001b[0m\u001b[0;34m:\u001b[0m\u001b[0;34m]\u001b[0m\u001b[0;34m\u001b[0m\u001b[0;34m\u001b[0m\u001b[0m\n\u001b[0;32m--> 225\u001b[0;31m             \u001b[0;32myield\u001b[0m \u001b[0;32mfrom\u001b[0m \u001b[0mself\u001b[0m\u001b[0;34m.\u001b[0m\u001b[0m_plot_args\u001b[0m\u001b[0;34m(\u001b[0m\u001b[0mthis\u001b[0m\u001b[0;34m,\u001b[0m \u001b[0mkwargs\u001b[0m\u001b[0;34m)\u001b[0m\u001b[0;34m\u001b[0m\u001b[0;34m\u001b[0m\u001b[0m\n\u001b[0m\u001b[1;32m    226\u001b[0m \u001b[0;34m\u001b[0m\u001b[0m\n\u001b[1;32m    227\u001b[0m     \u001b[0;32mdef\u001b[0m \u001b[0mget_next_color\u001b[0m\u001b[0;34m(\u001b[0m\u001b[0mself\u001b[0m\u001b[0;34m)\u001b[0m\u001b[0;34m:\u001b[0m\u001b[0;34m\u001b[0m\u001b[0;34m\u001b[0m\u001b[0m\n",
      "\u001b[0;32m~/Programs/anaconda3/lib/python3.7/site-packages/matplotlib/axes/_base.py\u001b[0m in \u001b[0;36m_plot_args\u001b[0;34m(self, tup, kwargs)\u001b[0m\n\u001b[1;32m    389\u001b[0m             \u001b[0mx\u001b[0m\u001b[0;34m,\u001b[0m \u001b[0my\u001b[0m \u001b[0;34m=\u001b[0m \u001b[0mindex_of\u001b[0m\u001b[0;34m(\u001b[0m\u001b[0mtup\u001b[0m\u001b[0;34m[\u001b[0m\u001b[0;34m-\u001b[0m\u001b[0;36m1\u001b[0m\u001b[0;34m]\u001b[0m\u001b[0;34m)\u001b[0m\u001b[0;34m\u001b[0m\u001b[0;34m\u001b[0m\u001b[0m\n\u001b[1;32m    390\u001b[0m \u001b[0;34m\u001b[0m\u001b[0m\n\u001b[0;32m--> 391\u001b[0;31m         \u001b[0mx\u001b[0m\u001b[0;34m,\u001b[0m \u001b[0my\u001b[0m \u001b[0;34m=\u001b[0m \u001b[0mself\u001b[0m\u001b[0;34m.\u001b[0m\u001b[0m_xy_from_xy\u001b[0m\u001b[0;34m(\u001b[0m\u001b[0mx\u001b[0m\u001b[0;34m,\u001b[0m \u001b[0my\u001b[0m\u001b[0;34m)\u001b[0m\u001b[0;34m\u001b[0m\u001b[0;34m\u001b[0m\u001b[0m\n\u001b[0m\u001b[1;32m    392\u001b[0m \u001b[0;34m\u001b[0m\u001b[0m\n\u001b[1;32m    393\u001b[0m         \u001b[0;32mif\u001b[0m \u001b[0mself\u001b[0m\u001b[0;34m.\u001b[0m\u001b[0mcommand\u001b[0m \u001b[0;34m==\u001b[0m \u001b[0;34m'plot'\u001b[0m\u001b[0;34m:\u001b[0m\u001b[0;34m\u001b[0m\u001b[0;34m\u001b[0m\u001b[0m\n",
      "\u001b[0;32m~/Programs/anaconda3/lib/python3.7/site-packages/matplotlib/axes/_base.py\u001b[0m in \u001b[0;36m_xy_from_xy\u001b[0;34m(self, x, y)\u001b[0m\n\u001b[1;32m    268\u001b[0m         \u001b[0;32mif\u001b[0m \u001b[0mx\u001b[0m\u001b[0;34m.\u001b[0m\u001b[0mshape\u001b[0m\u001b[0;34m[\u001b[0m\u001b[0;36m0\u001b[0m\u001b[0;34m]\u001b[0m \u001b[0;34m!=\u001b[0m \u001b[0my\u001b[0m\u001b[0;34m.\u001b[0m\u001b[0mshape\u001b[0m\u001b[0;34m[\u001b[0m\u001b[0;36m0\u001b[0m\u001b[0;34m]\u001b[0m\u001b[0;34m:\u001b[0m\u001b[0;34m\u001b[0m\u001b[0;34m\u001b[0m\u001b[0m\n\u001b[1;32m    269\u001b[0m             raise ValueError(\"x and y must have same first dimension, but \"\n\u001b[0;32m--> 270\u001b[0;31m                              \"have shapes {} and {}\".format(x.shape, y.shape))\n\u001b[0m\u001b[1;32m    271\u001b[0m         \u001b[0;32mif\u001b[0m \u001b[0mx\u001b[0m\u001b[0;34m.\u001b[0m\u001b[0mndim\u001b[0m \u001b[0;34m>\u001b[0m \u001b[0;36m2\u001b[0m \u001b[0;32mor\u001b[0m \u001b[0my\u001b[0m\u001b[0;34m.\u001b[0m\u001b[0mndim\u001b[0m \u001b[0;34m>\u001b[0m \u001b[0;36m2\u001b[0m\u001b[0;34m:\u001b[0m\u001b[0;34m\u001b[0m\u001b[0;34m\u001b[0m\u001b[0m\n\u001b[1;32m    272\u001b[0m             raise ValueError(\"x and y can be no greater than 2-D, but have \"\n",
      "\u001b[0;31mValueError\u001b[0m: x and y must have same first dimension, but have shapes (800,) and (0,)"
     ]
    },
    {
     "data": {
      "image/png": "[encoded data removed]",
      "text/plain": [
       "<Figure size 1440x720 with 2 Axes>"
      ]
     },
     "metadata": {
      "needs_background": "light"
     },
     "output_type": "display_data"
    }
   ],
   "source": [
    "# E4 - 1.2: Call extract_main_lobe() with the 3 test cases mentioned and plot the magnitude spectra of the windows with \n",
    "# the location of the main-lobe boundaries\n",
    "M=100\n",
    "w = get_window('blackmanharris', 100)         # get the window \n",
    "N = 8*M      #512\n",
    "hN = N//2    #32 \n",
    "hM = M//2    #256\n",
    "    \n",
    "fftbuffer = np.zeros(N)\n",
    "mX1 = np.zeros(N)  \n",
    "   \n",
    "fftbuffer[hN-hM:hN+hM] = w    #-224:288\n",
    "X = fft(fftbuffer)\n",
    "mX = 20*np.log10(abs(X)) \n",
    "mX1[:hN] = mX[hN:]\n",
    "mX1[N-hN:] = mX[:hN] \n",
    "\n",
    "for i in range (N):\n",
    "    if not mX[i+1] < mX[i]:\n",
    "        print(i)\n",
    "        break\n",
    "mX1[:hN] = mX[hN:]\n",
    "mX1[N-hN:] = mX[:hN] \n",
    "\n",
    "mlob = np.arange((2*i) + 1)\n",
    "mlob = mX1[-i:i]\n",
    "\n",
    "\n",
    "  \n",
    "plt.figure(1, figsize=(20, 10))\n",
    "plt.subplot(2,1,1)\n",
    "plt.plot(np.arange(-hN, hN), fftbuffer, lw=1.5)\n",
    "plt.axis([-hN, hN, 0, 1.1])\n",
    "\n",
    "plt.subplot(2,1,2)\n",
    "plt.plot(np.arange(-hN, hN), mX-max(mX), lw=1.5)\n",
    "plt.axis([-hN,hN,-80,0])\n",
    "\n",
    "plt.subplot(2,1,2)\n",
    "plt.plot(np.arange(-hN, hN), mX-max(mX), lw=1.5)\n",
    "plt.axis([-hN,hN,-80,0])\n",
    "\n",
    "plt.tight_layout()\n",
    "plt.show()"
   ]
  },
  {
   "cell_type": "markdown",
   "metadata": {},
   "source": [
    "## Part 2 - Measuring noise in the reconstructed signal using the STFT model \n",
    "\n",
    "Complete the function `compute_snr()` to measure the amount of distortion introduced during the analysis and synthesis of a signal using the STFT model. Use SNR (signal to noise ratio) in dB to quantify the amount of noise. \n",
    "Use the `stft()` function in `stft.py` to do an analysis followed by a synthesis of the input signal.\n",
    "\n",
    "Use the time domain energy definition to compute the SNR. With the input signal and the obtained output, compute two different SNR values for the following cases:\n",
    "\n",
    "1. `SNR1`: Over the entire length of the input and the output signals.\n",
    "2. `SNR2`: For the segment of the signals left after discarding `M` samples from both the start and the end, where `M` is the analysis window length. \n",
    "\n",
    "Note that the computations are done after STFT analysis and synthesis. The input arguments to the function are the wav file name including the path (`input_file`), window  type (`window`), window length (`M`), FFT size (`N`), and hop size (`H`). The function should return a python tuple of both the SNR values in decibels. Both SNR1 and SNR2 are float values. "
   ]
  },
  {
   "cell_type": "code",
   "execution_count": null,
   "metadata": {},
   "outputs": [],
   "source": [
    "# E4 - 2.1: Complete function\n",
    "\n",
    "def compute_snr(input_file, window, M, N, H):\n",
    "    \"\"\"Measure the amount of distortion introduced during the analysis and synthesis of a signal using the STFT model.\n",
    "    \n",
    "    Args:\n",
    "        input_file (str): wav file name including the path \n",
    "        window (str): analysis window type (rectangular, triangular, hanning, hamming, blackman, or blackmanharris)\n",
    "        M (int): analysis window length (odd positive integer)\n",
    "        N (int): fft size (power of two, > M)\n",
    "        H (int): hop size for the stft computation\n",
    "            \n",
    "    Result:\n",
    "        tuple with the signal to noise ratio over the whole sound and of the sound without the begining and end.\n",
    "    \"\"\"\n",
    "    ### your code here\n"
   ]
  },
  {
   "cell_type": "markdown",
   "metadata": {},
   "source": [
    "Now run and test `compute_snr()`. Use the following test cases to check your code.\n",
    "\n",
    "_Test case 1:_ If you run your code using `piano.wav` file with `'blackman'` window, `M = 513`, `N = 2048` and \n",
    "`H = 128`, the output SNR values should be around: `(67.57748352378475, 304.68394693221649)`.\n",
    "\n",
    "_Test case 2:_ If you run your code using `sax-phrase-short.wav` file with `'hamming'` window, `M = 512`, \n",
    "`N = 1024` and `H = 64`, the output SNR values should be around: `(89.510506656299285, 306.18696700251388)`.\n",
    "\n",
    "_Test case 3:_ If you run your code using `rain.wav` file with `'hann'` window, `M = 1024`, `N = 2048` and \n",
    "`H = 128`, the output SNR values should be around: `(74.631476225366825, 304.26918192997738)`.\n",
    "\n",
    "Due to precision differences on different machines/hardware, compared to the expected SNR values, your \n",
    "output values can differ substantially."
   ]
  },
  {
   "cell_type": "code",
   "execution_count": null,
   "metadata": {},
   "outputs": [],
   "source": [
    "# E4 - 2.2: Call the function compute_snr() for the 3 test cases mentioned\n",
    "\n",
    "### Your code here\n"
   ]
  },
  {
   "cell_type": "markdown",
   "metadata": {},
   "source": [
    "## Part 3 - Computing band-wise energy envelopes of a signal\n",
    "\n",
    "Complete the function `compute_eng_env()` to compute band-wise energy envelopes of a given audio signal using the STFT.\n",
    "\n",
    "Consider two frequency bands, low and high. The low frequency band is the set of frequencies between 0 and 3000 Hz and the high frequency band is the set of frequencies between 3000 and 10000 Hz (excluding the boundary frequencies in both the cases). At a given frame, the value of the energy envelope of a band can be computed as the sum of squared values of all the frequency coefficients in that band. Then you should compute the energy envelopes in decibels. \n",
    "\n",
    "The input arguments are the wav file name including the path (`input_file`), window type (`window`), window length (`M`), FFT size (`N`) and hop size (`H`). The function should return a numpy array with two columns, where the first column is the energy envelope of the low frequency band and the second column is that of the high frequency band.\n",
    "\n",
    "Use `stftAnal()` function from `stft.py` module to obtain the magnitude spectra for all the audio frames of the input sound. Then compute the energy values for each frequency band specified. While calculating frequency bins for each frequency band, consider only the bins that are within the specified frequency range. For example, for the low frequency band consider only the bins with frequency > 0 Hz and < 3000 Hz (you can use `np.where()` to find those bin indexes). This way you also remove the DC offset of the signal in energy envelope computation. The frequency corresponding to the bin index `k` can be computed as `k*fs/N`, where `fs` is the sampling rate of the signal."
   ]
  },
  {
   "cell_type": "code",
   "execution_count": null,
   "metadata": {},
   "outputs": [],
   "source": [
    "# E4 - 3.1: Complete function\n",
    "\n",
    "def compute_eng_env(input_file, window, M, N, H):\n",
    "    \"\"\"Compute band-wise energy envelopes of a given audio signal using the STFT.\n",
    "    \n",
    "    Args:\n",
    "        input_file (string): input sound file (monophonic with sampling rate of 44100)\n",
    "        window (string): analysis window type (choice of rectangular, triangular, hanning, \n",
    "                hamming, blackman, blackmanharris)\n",
    "        M (integer): analysis window size (odd positive integer)\n",
    "        N (integer): FFT size (power of 2, such that N > M)\n",
    "        H (integer): hop size for the stft computation\n",
    "        \n",
    "    Result:\n",
    "        np.array: magnitude spectra of sound (2D array)\n",
    "        np.array: 2D numpy array with energy envelope of band 0 < f < 3000 Hz (in dB) in first column, [:,0]\n",
    "        np.array: energy envelope of band 3000 < f < 10000 Hz (in dB) in second column [:,1]\n",
    "    \"\"\"\n",
    "    \n",
    "    ### your code here\n"
   ]
  },
  {
   "cell_type": "markdown",
   "metadata": {},
   "source": [
    "Now run and test `compute_eng_env()`. In order to check it you can run and compare these 3 test cases, ploting the results.\n",
    "\n",
    "_Test case 1:_ Use `piano.wav` file with `window = 'blackman'`, `M = 513`, `N = 1024` and `H = 128` as input. \n",
    "The bin indexes of the low frequency band span from 1 to 69 (69 samples) and of the high frequency \n",
    "band span from 70 to 232 (163 samples).\n",
    "\n",
    "_Test case 2:_ Use `piano.wav` file with `window = 'blackman'`, `M = 2047`, `N = 4096` and `H = 128` as input. \n",
    "The bin indexes of the low frequency band span from 1 to 278 (278 samples) and of the high frequency \n",
    "band span from 279 to 928 (650 samples).\n",
    "\n",
    "_Test case 3:_ Use `sax-phrase-short.wav` file with `window = 'hamming'`, `M = 513`, `N = 2048` and `H = 256` as \n",
    "input. The bin indexes of the low frequency band span from 1 to 139 (139 samples) and of the high \n",
    "frequency band span from 140 to 464 (325 samples).\n",
    "\n",
    "To get a better understanding of the band-wise energy envelope and its characteristics you can plot the envelopes together with the spectrogram of the signal. You can use `matplotlib` plotting library for this purpose. To visualize the spectrogram of a signal, a good option is to use the function `colormesh()` (you can reuse the code in\n",
    "`lectures/4-STFT/plots-code/spectrogram.py`). Either overlay the envelopes on the spectrogram \n",
    "or plot them in a different subplot. Make sure you use the same range of the x-axis for both the spectrogram and the energy envelopes.\n",
    "\n",
    "You can clearly notice the sharp attacks and decay of the piano notes for test case 1. You can compare this with the output from test case 2 that uses a larger window. You can infer the influence of window size on sharpness of the note attacks."
   ]
  },
  {
   "cell_type": "code",
   "execution_count": null,
   "metadata": {},
   "outputs": [],
   "source": [
    "# E4 - 3.2: Call the function compute_eng_env() and plot the envelopes together with the spectrogram of the signal\n",
    "\n",
    "### Your code here\n"
   ]
  },
  {
   "cell_type": "markdown",
   "metadata": {},
   "source": [
    "## Part 4 - Computing onset detection function\n",
    "\n",
    "Complete the function `compute_odf()` to compute a simple onset detection function (ODF) using the STFT. Compute two ODFs one for each of the frequency bands, low and high. The low frequency band is the set of all the frequencies between 0 and 3000 Hz and the high frequency band is the set of all the frequencies between 3000 and 10000 Hz (excluding the boundary frequencies in both the cases). \n",
    "\n",
    "Start with an initial condition of `ODF(0) = 0` in order to make the length of the ODF same as that of the energy envelope. Remember to apply a half wave rectification on the ODF. \n",
    "\n",
    "The input arguments to the function are the wav file name including the path (`input_file`), window \n",
    "type (`window`), window length (`M`), FFT size (`N`), and hop size (`H`). The function should return a numpy \n",
    "array with two columns, where the first column is the ODF computed on the low frequency band and the \n",
    "second column is the ODF computed on the high frequency band.\n",
    "\n",
    "Use `stftAnal()` to obtain the magnitude spectra for all the audio frames. Then compute the band-wise energy envelope for each frequency band specified. Finally compute the half wave rectify version of ODF from each energy envelope.\n"
   ]
  },
  {
   "cell_type": "code",
   "execution_count": null,
   "metadata": {},
   "outputs": [],
   "source": [
    "# E4 4.1: Complete function\n",
    "\n",
    "def compute_odf(input_file, window, M, N, H):\n",
    "    \"\"\"Compute a simple onset detection function (ODF) using the STFT.\n",
    "    \n",
    "    Args:\n",
    "        input_file (str): input sound file (monophonic with sampling rate of 44100)\n",
    "        window (str): analysis window type (rectangular, triangular, hanning, hamming, blackman, or blackmanharris)\n",
    "        M (int): analysis window size (odd integer value)\n",
    "        N (int): fft size (power of two, bigger or equal than than M)\n",
    "        H (int): hop size for the STFT computation\n",
    "        \n",
    "    Result:\n",
    "            np.array: magnitude spectra of sound (2D array)\n",
    "            np.array: D numpy array with ODF computed in band 0 < f < 3000 Hz (in dB) in first column, [:,0]\n",
    "            np.array: ODF computed of band 3000 < f < 10000 Hz (in dB) in second column [:,1]\n",
    "    \"\"\"\n",
    "    \n",
    "    ### your code here\n"
   ]
  },
  {
   "cell_type": "markdown",
   "metadata": {},
   "source": [
    "Now run and test `compute_odf()`. In order to check it you can run and compare these 3 test cases. Plot the results.\n",
    "\n",
    "_Test case 1:_ Use `piano.wav` file with `window = 'blackman'`, `M = 513`, `N = 1024` and `H = 128` as input. \n",
    "The bin indexes of the low frequency band span from 1 to 69 (69 samples) and of the high frequency \n",
    "band span from 70 to 232 (163 samples). \n",
    "\n",
    "_Test case 2:_ Use `piano.wav` file with `window = 'blackman'`, `M = 2047`, `N = 4096` and `H = 128` as input. \n",
    "The bin indexes of the low frequency band span from 1 to 278 (278 samples) and of the high frequency \n",
    "band span from 279 to 928 (650 samples). \n",
    "\n",
    "_Test case 3:_ Use `sax-phrase-short.wav` file with `window = 'hamming'`, `M = 513`, `N = 2048` and `H = 256` as \n",
    "input. The bin indexes of the low frequency band span from 1 to 139 (139 samples) and of the high \n",
    "frequency band span from 140 to 464 (325 samples).\n",
    "\n",
    "To get a better understanding of the ODFs and their characteristics you can plot the ODF functions together with the spectrogram of the signal. Use the same plotting than in the previos part.\n",
    "\n",
    "In order to identify the actual onsets of a signal you would need to find the peaks, local maxima, of the ODF functions using a magnitude threshold. Which of the 2 ODFs (low or high frequencies) would be most useful? What would be the right threshold for all 3 cases? Could you find a single threshold to be used for all 3 cases?\n",
    "\n",
    "For test case 1, you should clearly see that the ODFs have sharp peaks at the onset of the piano notes. You should notice 5 peaks that are above 10dB value in the ODF computed on the high frequency band. "
   ]
  },
  {
   "cell_type": "code",
   "execution_count": null,
   "metadata": {},
   "outputs": [],
   "source": [
    "# E4 - 4.2: Call the function compute_odf() for the 3 test cases and plot the ODF functions together with the \n",
    "# spectrogram of the signal.\n",
    "\n",
    "### Your code here\n"
   ]
  },
  {
   "cell_type": "code",
   "execution_count": null,
   "metadata": {},
   "outputs": [],
   "source": [
    "# E4 - 4.3: Explain the results of Part 4\n",
    "'''\n",
    "\n",
    "\n",
    "'''\n"
   ]
  }
 ],
 "metadata": {
  "kernelspec": {
   "display_name": "Python 3",
   "language": "python",
   "name": "python3"
  },
  "language_info": {
   "codemirror_mode": {
    "name": "ipython",
    "version": 3
   },
   "file_extension": ".py",
   "mimetype": "text/x-python",
   "name": "python",
   "nbconvert_exporter": "python",
   "pygments_lexer": "ipython3",
   "version": "3.7.4"
  }
 },
 "nbformat": 4,
 "nbformat_minor": 2
}
